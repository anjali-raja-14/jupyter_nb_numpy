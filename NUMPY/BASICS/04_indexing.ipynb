{
 "cells": [
  {
   "cell_type": "markdown",
   "metadata": {},
   "source": [
    "3D ARRAY"
   ]
  },
  {
   "cell_type": "code",
   "execution_count": 1,
   "metadata": {},
   "outputs": [
    {
     "name": "stdout",
     "output_type": "stream",
     "text": [
      "[[[ 1  2  3]\n",
      "  [11 12 13]\n",
      "  [15 29 30]]]\n"
     ]
    }
   ],
   "source": [
    "import numpy as np\n",
    "brr=np.array([[[1,2,3],[11,12,13],[15,29,30]]])\n",
    "print(brr)"
   ]
  },
  {
   "cell_type": "code",
   "execution_count": null,
   "metadata": {},
   "outputs": [],
   "source": [
    "brr[block,row,column]-->brr[0,1,2]\n",
    "1.brr[0]: Selects the first (and only) block[whole matrices]\n",
    "2.brr[1]:select the second row [11,12,13]\n",
    "3.brr[2]:select the third element"
   ]
  },
  {
   "cell_type": "code",
   "execution_count": 2,
   "metadata": {},
   "outputs": [
    {
     "name": "stdout",
     "output_type": "stream",
     "text": [
      "13\n",
      "30\n"
     ]
    }
   ],
   "source": [
    "print(brr[0,1,2])\n",
    "print(brr[0,2,2])"
   ]
  }
 ],
 "metadata": {
  "kernelspec": {
   "display_name": "Python 3",
   "language": "python",
   "name": "python3"
  },
  "language_info": {
   "codemirror_mode": {
    "name": "ipython",
    "version": 3
   },
   "file_extension": ".py",
   "mimetype": "text/x-python",
   "name": "python",
   "nbconvert_exporter": "python",
   "pygments_lexer": "ipython3",
   "version": "3.11.9"
  }
 },
 "nbformat": 4,
 "nbformat_minor": 2
}
