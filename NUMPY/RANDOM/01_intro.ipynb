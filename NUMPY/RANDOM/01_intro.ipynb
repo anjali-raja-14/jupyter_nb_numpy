{
 "cells": [
  {
   "cell_type": "markdown",
   "metadata": {},
   "source": [
    "RANDOM NUMBER\n"
   ]
  },
  {
   "cell_type": "code",
   "execution_count": 9,
   "metadata": {},
   "outputs": [
    {
     "name": "stdout",
     "output_type": "stream",
     "text": [
      "24\n"
     ]
    }
   ],
   "source": [
    "from numpy import random as rd\n",
    "print(rd.randint(1,100))\n"
   ]
  },
  {
   "cell_type": "code",
   "execution_count": 10,
   "metadata": {},
   "outputs": [
    {
     "name": "stdout",
     "output_type": "stream",
     "text": [
      "[[0.81296441 0.29025214 0.64810342 0.64903959 0.6524222  0.57103406\n",
      "  0.15514065 0.0953434  0.64700876 0.65695319]]\n"
     ]
    }
   ],
   "source": [
    "print(rd.rand(1,10))"
   ]
  },
  {
   "cell_type": "code",
   "execution_count": 18,
   "metadata": {},
   "outputs": [
    {
     "name": "stdout",
     "output_type": "stream",
     "text": [
      "[0.42086923 0.78437845]\n"
     ]
    }
   ],
   "source": [
    "from numpy import random as rd\n",
    "x=rd.rand(2)\n",
    "print(x)"
   ]
  },
  {
   "cell_type": "code",
   "execution_count": 19,
   "metadata": {},
   "outputs": [
    {
     "name": "stdout",
     "output_type": "stream",
     "text": [
      "[[0.85847659 0.41301596 0.06780118]\n",
      " [0.62313589 0.10622069 0.937258  ]]\n"
     ]
    }
   ],
   "source": [
    "from numpy import random as rd\n",
    "x=rd.rand(2,3)\n",
    "print(x)"
   ]
  },
  {
   "cell_type": "code",
   "execution_count": 28,
   "metadata": {},
   "outputs": [
    {
     "name": "stdout",
     "output_type": "stream",
     "text": [
      "8\n"
     ]
    }
   ],
   "source": [
    "x=rd.choice([2,4,6,8,10])\n",
    "print(x)"
   ]
  },
  {
   "cell_type": "code",
   "execution_count": null,
   "metadata": {},
   "outputs": [
    {
     "ename": "NameError",
     "evalue": "name 'size' is not defined",
     "output_type": "error",
     "traceback": [
      "\u001b[31m---------------------------------------------------------------------------\u001b[39m",
      "\u001b[31mNameError\u001b[39m                                 Traceback (most recent call last)",
      "\u001b[36mCell\u001b[39m\u001b[36m \u001b[39m\u001b[32mIn[29]\u001b[39m\u001b[32m, line 1\u001b[39m\n\u001b[32m----> \u001b[39m\u001b[32m1\u001b[39m x=rd.choice([\u001b[32m2\u001b[39m,\u001b[32m4\u001b[39m,\u001b[32m6\u001b[39m,\u001b[32m8\u001b[39m,\u001b[32m10\u001b[39m],\u001b[43msize\u001b[49m(\u001b[32m2\u001b[39m,\u001b[32m3\u001b[39m))\n\u001b[32m      2\u001b[39m \u001b[38;5;28mprint\u001b[39m(x)\n",
      "\u001b[31mNameError\u001b[39m: name 'size' is not defined"
     ]
    }
   ],
   "source": [
    "x=rd.choice([2,4,6,8,10],size=(2,3))\n",
    "print(x)"
   ]
  }
 ],
 "metadata": {
  "kernelspec": {
   "display_name": "Python 3",
   "language": "python",
   "name": "python3"
  },
  "language_info": {
   "codemirror_mode": {
    "name": "ipython",
    "version": 3
   },
   "file_extension": ".py",
   "mimetype": "text/x-python",
   "name": "python",
   "nbconvert_exporter": "python",
   "pygments_lexer": "ipython3",
   "version": "3.11.9"
  }
 },
 "nbformat": 4,
 "nbformat_minor": 2
}
