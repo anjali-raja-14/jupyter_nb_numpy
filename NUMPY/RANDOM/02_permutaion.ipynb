{
 "cells": [
  {
   "cell_type": "markdown",
   "metadata": {},
   "source": [
    "PERMUTATIONS"
   ]
  },
  {
   "cell_type": "code",
   "execution_count": 7,
   "metadata": {},
   "outputs": [
    {
     "name": "stdout",
     "output_type": "stream",
     "text": [
      "[3 6 9 4 7 8]\n"
     ]
    },
    {
     "ename": "AttributeError",
     "evalue": "module 'random' has no attribute 'permutation'",
     "output_type": "error",
     "traceback": [
      "\u001b[31m---------------------------------------------------------------------------\u001b[39m",
      "\u001b[31mAttributeError\u001b[39m                            Traceback (most recent call last)",
      "\u001b[36mCell\u001b[39m\u001b[36m \u001b[39m\u001b[32mIn[7]\u001b[39m\u001b[32m, line 5\u001b[39m\n\u001b[32m      3\u001b[39m x=np.array([\u001b[32m3\u001b[39m,\u001b[32m6\u001b[39m,\u001b[32m9\u001b[39m,\u001b[32m4\u001b[39m,\u001b[32m7\u001b[39m,\u001b[32m8\u001b[39m])\n\u001b[32m      4\u001b[39m \u001b[38;5;28mprint\u001b[39m(x)\n\u001b[32m----> \u001b[39m\u001b[32m5\u001b[39m \u001b[43mrandom\u001b[49m\u001b[43m.\u001b[49m\u001b[43mpermutation\u001b[49m(x)\n\u001b[32m      6\u001b[39m \u001b[38;5;28mprint\u001b[39m(x)\n",
      "\u001b[31mAttributeError\u001b[39m: module 'random' has no attribute 'permutation'"
     ]
    }
   ],
   "source": [
    "import numpy as np\n",
    "import random \n",
    "x=np.array([3,6,9,4,7,8])\n",
    "print(x)\n",
    "random.permutation(x)\n",
    "print(x)"
   ]
  }
 ],
 "metadata": {
  "kernelspec": {
   "display_name": "Python 3",
   "language": "python",
   "name": "python3"
  },
  "language_info": {
   "codemirror_mode": {
    "name": "ipython",
    "version": 3
   },
   "file_extension": ".py",
   "mimetype": "text/x-python",
   "name": "python",
   "nbconvert_exporter": "python",
   "pygments_lexer": "ipython3",
   "version": "3.11.9"
  }
 },
 "nbformat": 4,
 "nbformat_minor": 2
}
